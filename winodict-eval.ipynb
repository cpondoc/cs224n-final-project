{
 "cells": [
  {
   "cell_type": "markdown",
   "metadata": {},
   "source": [
    "# CS 224N Final Project - Evaluating on WinoDict Dataset\n",
    "By: Christopher Pondoc, Joseph Guman, and Joseph O'Brien"
   ]
  },
  {
   "cell_type": "code",
   "execution_count": 5,
   "metadata": {},
   "outputs": [
    {
     "name": "stdout",
     "output_type": "stream",
     "text": [
      "Using GPU: True\n"
     ]
    }
   ],
   "source": [
    "import torch\n",
    "print(\"Using GPU: \" + str(torch.cuda.is_available()))"
   ]
  },
  {
   "cell_type": "markdown",
   "metadata": {},
   "source": [
    "## Load in GPT-2 Model\n",
    "Using HuggingFace Transformers"
   ]
  },
  {
   "cell_type": "code",
   "execution_count": 6,
   "metadata": {},
   "outputs": [],
   "source": [
    "import torch\n",
    "from transformers import AutoTokenizer, GPT2LMHeadModel\n",
    "tokenizer = AutoTokenizer.from_pretrained(\"gpt2-medium\")\n",
    "model = GPT2LMHeadModel.from_pretrained(\"gpt2-medium\")"
   ]
  },
  {
   "cell_type": "markdown",
   "metadata": {},
   "source": [
    "## Load in Winograd Dataset\n",
    "Also taken from HuggingFace"
   ]
  },
  {
   "cell_type": "code",
   "execution_count": 7,
   "metadata": {},
   "outputs": [],
   "source": [
    "import pandas as pd\n",
    "first_set = pd.read_csv(\"winodict/prob1_of_5.csv\")"
   ]
  },
  {
   "cell_type": "markdown",
   "metadata": {},
   "source": [
    "## Evaluating on One Example\n",
    "Writing a function that is reusable and works for one example"
   ]
  },
  {
   "cell_type": "code",
   "execution_count": 8,
   "metadata": {},
   "outputs": [],
   "source": [
    "def evaluate_winodict(example):\n",
    "    # First, replace the word with each of the options\n",
    "    if ('_' in example['sentence']):\n",
    "        # Change 'the' to lowercase\n",
    "        first_choice, second_choice = example['option1'], example['option2']\n",
    "        if (first_choice[:4] == \"The \"):\n",
    "            first_choice = \"the \" + first_choice[4:]\n",
    "        if (second_choice[:4] == \"The \"):\n",
    "            second_choice = \"the \" + second_choice[4:]\n",
    "\n",
    "        # Replace the text\n",
    "        first_text, second_text = example['sentence'], example['sentence']\n",
    "        pronoun_loc = example['sentence'].index('_')\n",
    "        first_option = example['definition'] + \" \" + first_text[:pronoun_loc] + first_choice + first_text[pronoun_loc + 1:]\n",
    "        second_option = example['definition'] + \" \" + second_text[:pronoun_loc] + second_choice + second_text[pronoun_loc + 1:]\n",
    "\n",
    "        # Tokenize each string and produce labels\n",
    "        first_inputs, second_inputs = tokenizer(first_option, return_tensors=\"pt\"), tokenizer(second_option, return_tensors=\"pt\")\n",
    "\n",
    "        # Create the first token labels\n",
    "        first_masked_tokens = tokenizer(example['definition'] + \" \" + first_text[:pronoun_loc] + first_choice, return_tensors=\"pt\")\n",
    "        first_labels = first_masked_tokens[\"input_ids\"][0]\n",
    "        first_mask = torch.full((1, first_labels.shape[0]), -100)\n",
    "        first_fill = tokenizer(first_text[pronoun_loc + 1:], return_tensors=\"pt\")[\"input_ids\"]\n",
    "        final_first_labels = torch.cat((first_mask, first_fill), dim=1)\n",
    "\n",
    "        # Create the second token labels\n",
    "        second_masked_tokens = tokenizer(example['definition'] + \" \" + second_text[:pronoun_loc] + second_choice, return_tensors=\"pt\")\n",
    "        second_labels = second_masked_tokens[\"input_ids\"][0]\n",
    "        second_mask = torch.full((1, second_labels.shape[0]), -100)\n",
    "        second_fill = tokenizer(second_text[pronoun_loc + 1:], return_tensors=\"pt\")[\"input_ids\"]\n",
    "        final_second_labels = torch.cat((second_mask, second_fill), dim=1)\n",
    "\n",
    "        # Evaluate the model on each example and check\n",
    "        first_loss = model(**first_inputs, labels=final_first_labels).loss\n",
    "        second_loss = model(**second_inputs, labels=final_second_labels).loss\n",
    "        \n",
    "        # Write down the correct value and check\n",
    "        if (first_loss < second_loss):\n",
    "            return (int(example['label']) == 0)\n",
    "        else:\n",
    "            return (int(example['label']) == 1)\n",
    "\n",
    "        '''first_option, second_option = example['sentence'], example['sentence']\n",
    "        pronoun_loc = example['sentence'].index('_')\n",
    "        first_option = example['definition'] + \" \" + first_option[:pronoun_loc] + example['option1'] + first_option[pronoun_loc + 1:]\n",
    "        second_option = example['definition'] + \" \" + second_option[:pronoun_loc] + example['option2'] + second_option[pronoun_loc + 1:]\n",
    "\n",
    "        # Tokenize each string and produce labels\n",
    "        first_inputs, second_inputs = tokenizer(first_option, return_tensors=\"pt\"), tokenizer(second_option, return_tensors=\"pt\")\n",
    "        first_labels, second_labels = torch.clone(first_inputs[\"input_ids\"]), torch.clone(second_inputs[\"input_ids\"])\n",
    "        \n",
    "        # Find positioning of tokens of the underscore to split\n",
    "        start_str, start_ind, end_ind = \"\", -1, -1\n",
    "        original_inputs = tokenizer(example['definition'] + \" \" + example['sentence'], return_tensors=\"pt\")\n",
    "        for i in range(len(original_inputs[\"input_ids\"][0])):\n",
    "            value = original_inputs[\"input_ids\"][0][i]\n",
    "            if (tokenizer.decode(value).strip()) in \"_\":\n",
    "                start_str += tokenizer.decode(value).strip()\n",
    "                if (start_ind == -1):\n",
    "                    start_ind = i\n",
    "                if (start_str == \"_\"):\n",
    "                    end_ind = i\n",
    "                    break\n",
    "            else:\n",
    "                if (end_ind == -1):\n",
    "                    start_ind = -1\n",
    "                    start_str = \"\"\n",
    "        \n",
    "        # Create masked string for first option\n",
    "        original_labels = torch.clone(original_inputs[\"input_ids\"])\n",
    "        first_text_tokens = tokenizer(\" \" + example['option1'], return_tensors=\"pt\")[\"input_ids\"][0]\n",
    "        middle_tensor = torch.full((1, len(first_text_tokens)), -100)\n",
    "        final_first_labels = torch.cat((original_labels[:,0:start_ind], middle_tensor, original_labels[:,end_ind + 1:]), dim=1)\n",
    "\n",
    "        # Create masked string for second option\n",
    "        second_text_tokens = tokenizer(\" \" + example['option2'], return_tensors=\"pt\")[\"input_ids\"][0]\n",
    "        middle_tensor = torch.full((1, len(second_text_tokens)), -100)\n",
    "        final_second_labels = torch.cat((original_labels[:,0:start_ind], middle_tensor, original_labels[:,end_ind + 1:]), dim=1)\n",
    "        \n",
    "        # Evaluate the model on each example and check\n",
    "        first_loss = model(**first_inputs, labels=final_first_labels).loss\n",
    "        second_loss = model(**second_inputs, labels=final_second_labels).loss\n",
    "        \n",
    "        # Write down the correct value and check\n",
    "        if (first_loss < second_loss):\n",
    "            return (int(example['label']) == 0)\n",
    "        else:\n",
    "            return (int(example['label']) == 1)'''"
   ]
  },
  {
   "cell_type": "markdown",
   "metadata": {},
   "source": [
    "## Evaluating WinoDict on GPT-2\n",
    "Looking specifically at `WinoDict`, with the first generated examples and adding in the definition and substituting in the word."
   ]
  },
  {
   "cell_type": "code",
   "execution_count": 9,
   "metadata": {},
   "outputs": [
    {
     "name": "stdout",
     "output_type": "stream",
     "text": [
      "GPT-2 Large achieved a score of: 0.0\n"
     ]
    }
   ],
   "source": [
    "correct, total = 0, 0\n",
    "for index, row in first_set.iterrows():\n",
    "    if (row['lemma'] != \"lemma\"):\n",
    "        total += 1\n",
    "        correct += evaluate_winodict(row)\n",
    "        print(correct)\n",
    "    \n",
    "print(\"GPT-2 Large achieved a score of: \" + str(float(correct) / float(total)))"
   ]
  },
  {
   "cell_type": "code",
   "execution_count": null,
   "metadata": {},
   "outputs": [],
   "source": []
  }
 ],
 "metadata": {
  "kernelspec": {
   "display_name": "Python (pytorch)",
   "language": "python",
   "name": "pytorch"
  },
  "language_info": {
   "codemirror_mode": {
    "name": "ipython",
    "version": 3
   },
   "file_extension": ".py",
   "mimetype": "text/x-python",
   "name": "python",
   "nbconvert_exporter": "python",
   "pygments_lexer": "ipython3",
   "version": "3.9.13"
  }
 },
 "nbformat": 4,
 "nbformat_minor": 4
}
